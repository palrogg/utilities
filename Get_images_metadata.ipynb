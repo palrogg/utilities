{
 "cells": [
  {
   "cell_type": "markdown",
   "metadata": {},
   "source": [
    "# Get images metadata\n",
    "\n",
    "Gets all .jpg images in the current folder and prints the \"description\" metadata, using the Python Imaging Library (PIL)."
   ]
  },
  {
   "cell_type": "code",
   "execution_count": 1,
   "metadata": {
    "collapsed": false
   },
   "outputs": [],
   "source": [
    "import glob\n",
    "import PIL\n",
    "from PIL import Image\n",
    "from PIL import IptcImagePlugin "
   ]
  },
  {
   "cell_type": "code",
   "execution_count": 2,
   "metadata": {
    "collapsed": false
   },
   "outputs": [
    {
     "data": {
      "text/plain": [
       "['150206_Costa_Carolina_chaise_01.jpg', '160523_Elg_Aline_01.jpg']"
      ]
     },
     "execution_count": 2,
     "metadata": {},
     "output_type": "execute_result"
    }
   ],
   "source": [
    "imgpaths = glob.glob('*.jpg') # change it to jpeg or anything\n",
    "imgpaths"
   ]
  },
  {
   "cell_type": "code",
   "execution_count": 3,
   "metadata": {
    "collapsed": false
   },
   "outputs": [
    {
     "name": "stdout",
     "output_type": "stream",
     "text": [
      "150206_Costa_Carolina_chaise_01.jpg >\n",
      "Author: Laurent Guiraud\n",
      "Genève, le 6 février 2015. Devant la cathédrale Saint-Pierre. Rencontre avec Carolina Costa, comédienne (assise sur la chaise de chaire de la cathédrale).Photo: Laurent Guiraud. \n",
      "\n",
      "160523_Elg_Aline_01.jpg >\n",
      "Author: Laurent Guiraud\n",
      "Genève, le 23 mai 2016. Rencontre avec Aline Elg, historienne. Photo: Laurent Guiraud. \n",
      "\n"
     ]
    }
   ],
   "source": [
    "for imgpath in imgpaths:\n",
    "    img = Image.open(imgpath)\n",
    "    imgInfo = IptcImagePlugin.getiptcinfo(img)\n",
    "    description = imgInfo[(2, 120)]\n",
    "    author = imgInfo[(2, 80)]\n",
    "    print(imgpath, '>')\n",
    "    print('Author:', author.decode('utf-8'))\n",
    "    print(description.decode('utf-8'), \"\\n\") # str.decode('utf-8'): for compatibility with windows\n",
    "    "
   ]
  },
  {
   "cell_type": "code",
   "execution_count": null,
   "metadata": {
    "collapsed": true
   },
   "outputs": [],
   "source": []
  }
 ],
 "metadata": {
  "anaconda-cloud": {},
  "kernelspec": {
   "display_name": "Python [Root]",
   "language": "python",
   "name": "Python [Root]"
  },
  "language_info": {
   "codemirror_mode": {
    "name": "ipython",
    "version": 3
   },
   "file_extension": ".py",
   "mimetype": "text/x-python",
   "name": "python",
   "nbconvert_exporter": "python",
   "pygments_lexer": "ipython3",
   "version": "3.5.2"
  }
 },
 "nbformat": 4,
 "nbformat_minor": 0
}
