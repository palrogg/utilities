{
 "cells": [
  {
   "cell_type": "markdown",
   "metadata": {},
   "source": [
    "# Recursive json search\n",
    "\n",
    "A tool to quickly find the path to a given key."
   ]
  },
  {
   "cell_type": "code",
   "execution_count": 1,
   "metadata": {
    "collapsed": true
   },
   "outputs": [],
   "source": [
    "def recursiveSearch(_dict, needle, tree):\n",
    "    if isinstance(_dict, list):\n",
    "        for index in range(0, len(_dict)):\n",
    "            recursiveSearch(_dict[index], needle, tree + '>list_' + str(index))\n",
    "    elif not isinstance(_dict, dict):\n",
    "        return False\n",
    "    else:\n",
    "        for key in _dict:\n",
    "            if key == needle:\n",
    "                tree += '>' + needle\n",
    "                print('needle found in', tree, '!')\n",
    "                usable_tree = tree.replace(\">list_\", \"\")\n",
    "                usable_tree = \"['\" + usable_tree.replace('>', \"']['\") + \"']\"\n",
    "                print(usable_tree)\n",
    "            recursiveSearch(_dict[key], needle, tree + '>' + key)\n",
    "\n"
   ]
  },
  {
   "cell_type": "code",
   "execution_count": null,
   "metadata": {
    "collapsed": true
   },
   "outputs": [],
   "source": []
  }
 ],
 "metadata": {
  "kernelspec": {
   "display_name": "Python 3",
   "language": "python",
   "name": "python3"
  },
  "language_info": {
   "codemirror_mode": {
    "name": "ipython",
    "version": 3
   },
   "file_extension": ".py",
   "mimetype": "text/x-python",
   "name": "python",
   "nbconvert_exporter": "python",
   "pygments_lexer": "ipython3",
   "version": "3.5.1"
  }
 },
 "nbformat": 4,
 "nbformat_minor": 2
}
