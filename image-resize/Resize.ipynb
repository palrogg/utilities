{
 "cells": [
  {
   "cell_type": "code",
   "execution_count": 1,
   "metadata": {
    "collapsed": false
   },
   "outputs": [],
   "source": [
    "import glob\n",
    "import PIL\n",
    "from PIL import Image"
   ]
  },
  {
   "cell_type": "code",
   "execution_count": 2,
   "metadata": {
    "collapsed": false
   },
   "outputs": [
    {
     "data": {
      "text/plain": [
       "['img\\\\161003_concert_Les_Insus_01.JPG',\n",
       " 'img\\\\161003_concert_Les_Insus_02.JPG',\n",
       " 'img\\\\161003_concert_Les_Insus_03.JPG',\n",
       " 'img\\\\161003_concert_Les_Insus_04.JPG',\n",
       " 'img\\\\161003_concert_Les_Insus_05.JPG',\n",
       " 'img\\\\161003_concert_Les_Insus_06.JPG',\n",
       " 'img\\\\161003_concert_Les_Insus_07.JPG',\n",
       " 'img\\\\161003_concert_Les_Insus_08.JPG',\n",
       " 'img\\\\161003_concert_Les_Insus_09.JPG',\n",
       " 'img\\\\161003_concert_Les_Insus_10.JPG',\n",
       " 'img\\\\161003_concert_Les_Insus_11.JPG',\n",
       " 'img\\\\161003_concert_Les_Insus_12.JPG',\n",
       " 'img\\\\161003_concert_Les_Insus_13.JPG',\n",
       " 'img\\\\161003_concert_Les_Insus_14.JPG',\n",
       " 'img\\\\161003_concert_Les_Insus_15.JPG',\n",
       " 'img\\\\161003_concert_Les_Insus_16.JPG',\n",
       " 'img\\\\161003_concert_Les_Insus_17.JPG',\n",
       " 'img\\\\161003_concert_Les_Insus_18.JPG',\n",
       " 'img\\\\161003_concert_Les_Insus_19.JPG',\n",
       " 'img\\\\161003_concert_Les_Insus_20.JPG',\n",
       " 'img\\\\161003_concert_Les_Insus_21.JPG',\n",
       " 'img\\\\161003_concert_Les_Insus_22.JPG',\n",
       " 'img\\\\161003_concert_Les_Insus_23.JPG']"
      ]
     },
     "execution_count": 2,
     "metadata": {},
     "output_type": "execute_result"
    }
   ],
   "source": [
    "imgpaths = glob.glob('img/*.jpg')\n",
    "imgpaths"
   ]
  },
  {
   "cell_type": "code",
   "execution_count": 6,
   "metadata": {
    "collapsed": false
   },
   "outputs": [],
   "source": [
    "for imgpath in imgpaths:\n",
    "    imgpath_new = imgpath.replace('img', 'img_resize')\n",
    "    basewidth = 900\n",
    "    img = Image.open(imgpath)\n",
    "    exif = img.info['exif']\n",
    "    \n",
    "    wpercent = (basewidth / float(img.size[0]))\n",
    "    hsize = int((float(img.size[1]) * float(wpercent)))\n",
    "    img = img.resize((basewidth, hsize), PIL.Image.ANTIALIAS)\n",
    "    \n",
    "    img.save(imgpath_new, exif=exif)"
   ]
  }
 ],
 "metadata": {
  "anaconda-cloud": {},
  "kernelspec": {
   "display_name": "Python [Root]",
   "language": "python",
   "name": "Python [Root]"
  },
  "language_info": {
   "codemirror_mode": {
    "name": "ipython",
    "version": 3
   },
   "file_extension": ".py",
   "mimetype": "text/x-python",
   "name": "python",
   "nbconvert_exporter": "python",
   "pygments_lexer": "ipython3",
   "version": "3.5.2"
  }
 },
 "nbformat": 4,
 "nbformat_minor": 0
}
